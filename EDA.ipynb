{
 "cells": [
  {
   "cell_type": "markdown",
   "metadata": {},
   "source": [
    "# <p style=\"background-color:white; color:black; text-align:center\">Analyse des données StackOverflow</p>"
   ]
  },
  {
   "cell_type": "markdown",
   "metadata": {},
   "source": [
    "Import des librairies nécessaires"
   ]
  },
  {
   "cell_type": "code",
   "execution_count": 1,
   "metadata": {},
   "outputs": [],
   "source": [
    "import numpy as np\n",
    "import pandas as pd\n",
    "import matplotlib\n",
    "import matplotlib.pyplot as plt\n",
    "from matplotlib import colors\n",
    "import seaborn as sns\n",
    "import plotly.express as px\n",
    "from matplotlib.colors import ListedColormap\n",
    "\n",
    "import pymongo"
   ]
  },
  {
   "cell_type": "markdown",
   "metadata": {},
   "source": [
    "Chargement de la palette des couleurs pour les graphiques"
   ]
  },
  {
   "cell_type": "code",
   "execution_count": 2,
   "metadata": {},
   "outputs": [],
   "source": [
    "palette = sns.color_palette(\"rocket\")\n",
    "\n",
    "darker = palette[0]\n",
    "dark = palette[1]\n",
    "medium = palette[2]\n",
    "redish = palette[3]\n",
    "light = palette[4]\n",
    "lighter = palette[5]\n",
    "\n",
    "colors = ['green' if (i == 0 and j == 0) or (i == 1 and j == 1) else 'red' for i in range(2) for j in range(2)]\n",
    "cmap_cm = ListedColormap(colors)\n",
    "\n",
    "sns.set_style('darkgrid')\n",
    "\n",
    "cmap = sns.color_palette(\"rocket\", as_cmap=True)"
   ]
  },
  {
   "cell_type": "markdown",
   "metadata": {},
   "source": [
    "Modification des paramètres par défaut des graphiques"
   ]
  },
  {
   "cell_type": "code",
   "execution_count": 3,
   "metadata": {},
   "outputs": [],
   "source": [
    "title_font = {'fontname':'Arial', 'size':'18', 'color':'black', 'weight':'normal', 'verticalalignment':'bottom'}\n",
    "axis_font = {'fontname':'Arial', 'size':'14', 'weight':'normal', 'color':'black', 'verticalalignment':'top'}\n",
    "ticks_font = {'fontname':'Arial', 'size':'15', 'weight':'normal'}\n",
    "legend_font = {'fontname':'Arial', 'size':'13', 'weight':'normal'}\n",
    "label_font = {'fontname':'Arial', 'size':'12', 'weight':'normal'}"
   ]
  },
  {
   "cell_type": "code",
   "execution_count": 4,
   "metadata": {},
   "outputs": [],
   "source": [
    "plt.rcParams['axes.labelsize'] = 14\n",
    "plt.rcParams['axes.labelweight'] = 'semibold'\n",
    "plt.rcParams['axes.titlesize'] = 18\n",
    "plt.rcParams['axes.titleweight'] = 'bold'\n",
    "plt.rcParams['axes.titlepad'] = 20\n",
    "plt.rcParams['xtick.labelsize'] = 15\n",
    "plt.rcParams['ytick.labelsize'] = 15\n",
    "plt.rcParams['legend.fontsize'] = 13\n",
    "plt.rcParams['legend.title_fontsize'] = 14\n",
    "plt.rcParams['legend.labelspacing'] = 1\n",
    "plt.rcParams['legend.loc'] = 'best'\n",
    "plt.rcParams['legend.frameon'] = True\n",
    "plt.rcParams['legend.edgecolor'] = 'black'\n",
    "plt.rcParams['legend.facecolor'] = 'white'\n",
    "plt.rcParams['legend.framealpha'] = 0.9\n",
    "plt.rcParams['legend.shadow'] = True\n",
    "plt.rcParams['legend.fancybox'] = True"
   ]
  },
  {
   "cell_type": "markdown",
   "metadata": {},
   "source": [
    "Import des données"
   ]
  },
  {
   "cell_type": "code",
   "execution_count": 5,
   "metadata": {},
   "outputs": [],
   "source": [
    "client = pymongo.MongoClient('localhost', 27017)\n",
    "db = client['stackoverflow']\n",
    "collection = db['so_scrapper']\n",
    "data = pd.DataFrame(list(collection.find()))\n",
    "data = data.drop(columns=['_id'])"
   ]
  },
  {
   "cell_type": "code",
   "execution_count": 6,
   "metadata": {},
   "outputs": [
    {
     "data": {
      "text/html": [
       "<div>\n",
       "<style scoped>\n",
       "    .dataframe tbody tr th:only-of-type {\n",
       "        vertical-align: middle;\n",
       "    }\n",
       "\n",
       "    .dataframe tbody tr th {\n",
       "        vertical-align: top;\n",
       "    }\n",
       "\n",
       "    .dataframe thead th {\n",
       "        text-align: right;\n",
       "    }\n",
       "</style>\n",
       "<table border=\"1\" class=\"dataframe\">\n",
       "  <thead>\n",
       "    <tr style=\"text-align: right;\">\n",
       "      <th></th>\n",
       "      <th>title</th>\n",
       "      <th>link</th>\n",
       "      <th>summary</th>\n",
       "      <th>tags</th>\n",
       "      <th>author_details</th>\n",
       "      <th>date</th>\n",
       "    </tr>\n",
       "  </thead>\n",
       "  <tbody>\n",
       "    <tr>\n",
       "      <th>0</th>\n",
       "      <td>React native app freezes when calculating date...</td>\n",
       "      <td>/questions/78763875/react-native-app-freezes-w...</td>\n",
       "      <td>\\n                I'm fairly new to programmin...</td>\n",
       "      <td>[react-native, date-fns]</td>\n",
       "      <td>\\nNikoline Vejby\\n</td>\n",
       "      <td>2024-07-18 10:38:42Z</td>\n",
       "    </tr>\n",
       "    <tr>\n",
       "      <th>1</th>\n",
       "      <td>Access SharePoint Site with Access Token</td>\n",
       "      <td>/questions/78763873/access-sharepoint-site-wit...</td>\n",
       "      <td>\\n                I am trying to access Share ...</td>\n",
       "      <td>[access-token, sharepoint-online]</td>\n",
       "      <td>\\nRAJESH\\n</td>\n",
       "      <td>2024-07-18 10:38:39Z</td>\n",
       "    </tr>\n",
       "    <tr>\n",
       "      <th>2</th>\n",
       "      <td>What is the difference between aes encryption ...</td>\n",
       "      <td>/questions/78763871/what-is-the-difference-bet...</td>\n",
       "      <td>\\n                When I use JavaScript to enc...</td>\n",
       "      <td>[python, encryption, aes]</td>\n",
       "      <td>\\nSingun\\n</td>\n",
       "      <td>2024-07-18 10:38:06Z</td>\n",
       "    </tr>\n",
       "    <tr>\n",
       "      <th>3</th>\n",
       "      <td>I'm trying to make a login system in C languag...</td>\n",
       "      <td>/questions/78763870/im-trying-to-make-a-login-...</td>\n",
       "      <td>\\n                However there are two proble...</td>\n",
       "      <td>[c, authentication]</td>\n",
       "      <td>\\nReaper Rapper-san's Eye\\n</td>\n",
       "      <td>2024-07-18 10:37:56Z</td>\n",
       "    </tr>\n",
       "    <tr>\n",
       "      <th>4</th>\n",
       "      <td>executing python script by php in apache2 webs...</td>\n",
       "      <td>/questions/78763869/executing-python-script-by...</td>\n",
       "      <td>\\n                I have a python script that ...</td>\n",
       "      <td>[php, python-3.x, linux]</td>\n",
       "      <td>\\nSubrath kumar\\n</td>\n",
       "      <td>2024-07-18 10:37:55Z</td>\n",
       "    </tr>\n",
       "  </tbody>\n",
       "</table>\n",
       "</div>"
      ],
      "text/plain": [
       "                                               title  \\\n",
       "0  React native app freezes when calculating date...   \n",
       "1           Access SharePoint Site with Access Token   \n",
       "2  What is the difference between aes encryption ...   \n",
       "3  I'm trying to make a login system in C languag...   \n",
       "4  executing python script by php in apache2 webs...   \n",
       "\n",
       "                                                link  \\\n",
       "0  /questions/78763875/react-native-app-freezes-w...   \n",
       "1  /questions/78763873/access-sharepoint-site-wit...   \n",
       "2  /questions/78763871/what-is-the-difference-bet...   \n",
       "3  /questions/78763870/im-trying-to-make-a-login-...   \n",
       "4  /questions/78763869/executing-python-script-by...   \n",
       "\n",
       "                                             summary  \\\n",
       "0  \\n                I'm fairly new to programmin...   \n",
       "1  \\n                I am trying to access Share ...   \n",
       "2  \\n                When I use JavaScript to enc...   \n",
       "3  \\n                However there are two proble...   \n",
       "4  \\n                I have a python script that ...   \n",
       "\n",
       "                                tags               author_details  \\\n",
       "0           [react-native, date-fns]           \\nNikoline Vejby\\n   \n",
       "1  [access-token, sharepoint-online]                   \\nRAJESH\\n   \n",
       "2          [python, encryption, aes]                   \\nSingun\\n   \n",
       "3                [c, authentication]  \\nReaper Rapper-san's Eye\\n   \n",
       "4           [php, python-3.x, linux]            \\nSubrath kumar\\n   \n",
       "\n",
       "                   date  \n",
       "0  2024-07-18 10:38:42Z  \n",
       "1  2024-07-18 10:38:39Z  \n",
       "2  2024-07-18 10:38:06Z  \n",
       "3  2024-07-18 10:37:56Z  \n",
       "4  2024-07-18 10:37:55Z  "
      ]
     },
     "execution_count": 6,
     "metadata": {},
     "output_type": "execute_result"
    }
   ],
   "source": [
    "data.head()"
   ]
  },
  {
   "cell_type": "code",
   "execution_count": 7,
   "metadata": {},
   "outputs": [
    {
     "name": "stdout",
     "output_type": "stream",
     "text": [
      "<class 'pandas.core.frame.DataFrame'>\n",
      "RangeIndex: 45020 entries, 0 to 45019\n",
      "Data columns (total 6 columns):\n",
      " #   Column          Non-Null Count  Dtype \n",
      "---  ------          --------------  ----- \n",
      " 0   title           45020 non-null  object\n",
      " 1   link            45020 non-null  object\n",
      " 2   summary         45020 non-null  object\n",
      " 3   tags            45020 non-null  object\n",
      " 4   author_details  45020 non-null  object\n",
      " 5   date            45020 non-null  object\n",
      "dtypes: object(6)\n",
      "memory usage: 2.1+ MB\n"
     ]
    }
   ],
   "source": [
    "data.info()"
   ]
  }
 ],
 "metadata": {
  "kernelspec": {
   "display_name": "Python 3",
   "language": "python",
   "name": "python3"
  },
  "language_info": {
   "codemirror_mode": {
    "name": "ipython",
    "version": 3
   },
   "file_extension": ".py",
   "mimetype": "text/x-python",
   "name": "python",
   "nbconvert_exporter": "python",
   "pygments_lexer": "ipython3",
   "version": "3.12.2"
  }
 },
 "nbformat": 4,
 "nbformat_minor": 2
}
